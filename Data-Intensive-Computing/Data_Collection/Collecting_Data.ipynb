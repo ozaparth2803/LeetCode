{
 "cells": [
  {
   "cell_type": "code",
   "execution_count": 24,
   "metadata": {
    "collapsed": true
   },
   "outputs": [],
   "source": [
    "import tweepy\n",
    "from tweepy.streaming import StreamListener\n",
    "from tweepy import OAuthHandler\n",
    "from tweepy import Stream\n",
    "import sys\n",
    "from nytimesarticle import articleAPI\n",
    "import json, requests\n",
    "import string\n",
    "from bs4.element import Comment\n",
    "import urllib3"
   ]
  },
  {
   "cell_type": "code",
   "execution_count": 22,
   "metadata": {
    "collapsed": true
   },
   "outputs": [],
   "source": [
    "from pprint import pprint\n",
    "from bs4 import BeautifulSoup"
   ]
  },
  {
   "cell_type": "markdown",
   "metadata": {},
   "source": [
    "# Twitter"
   ]
  },
  {
   "cell_type": "code",
   "execution_count": 4,
   "metadata": {
    "collapsed": true
   },
   "outputs": [],
   "source": [
    "api_key= \"Key\"\n",
    "api_secret= \"Secret\"\n",
    "access_token= \"token\"\n",
    "access_token_secret= \"token_secret\""
   ]
  },
  {
   "cell_type": "code",
   "execution_count": 5,
   "metadata": {
    "collapsed": true
   },
   "outputs": [],
   "source": [
    "auth = tweepy.OAuthHandler(api_key, api_secret)\n",
    "auth.set_access_token(access_token, access_token_secret)"
   ]
  },
  {
   "cell_type": "code",
   "execution_count": 101,
   "metadata": {
    "collapsed": true
   },
   "outputs": [],
   "source": [
    "#api = tweepy.API(auth, wait_on_rate_limit_notify=True, wait_on_rate_limit=True)"
   ]
  },
  {
   "cell_type": "code",
   "execution_count": 6,
   "metadata": {
    "collapsed": true
   },
   "outputs": [],
   "source": [
    "api = tweepy.API(auth)"
   ]
  },
  {
   "cell_type": "code",
   "execution_count": 347,
   "metadata": {
    "collapsed": true
   },
   "outputs": [],
   "source": [
    "def collecttweets(hastag):\n",
    "    with open('tweets.txt','a',encoding='utf-8') as f:\n",
    "        searchtweets=api.search(q=hastag,count=1000,since='2018-01-01',lang='en')\n",
    "        for tweet in searchtweets:\n",
    "                if (not tweet.retweeted) and ('RT @' not in tweet.text):\n",
    "                    f.write('\\n\\n')\n",
    "                    f.write(tweet.text)"
   ]
  },
  {
   "cell_type": "markdown",
   "metadata": {},
   "source": [
    "# NYTimes"
   ]
  },
  {
   "cell_type": "code",
   "execution_count": 72,
   "metadata": {
    "collapsed": true
   },
   "outputs": [],
   "source": [
    "from os import path\n",
    "from PIL import Image\n",
    "import numpy as np\n",
    "import matplotlib.pyplot as plt\n",
    "from nltk.corpus import stopwords\n",
    "from nltk.tokenize import word_tokenize"
   ]
  },
  {
   "cell_type": "code",
   "execution_count": 555,
   "metadata": {
    "collapsed": true
   },
   "outputs": [],
   "source": [
    "api=articleAPI(\"\")"
   ]
  },
  {
   "cell_type": "code",
   "execution_count": 559,
   "metadata": {
    "collapsed": true
   },
   "outputs": [],
   "source": [
    "articles = api.search( q = 'hashtag')"
   ]
  },
  {
   "cell_type": "code",
   "execution_count": null,
   "metadata": {},
   "outputs": [],
   "source": [
    "stop_words = set(stopwords.words('english'))\n",
    "word_tokens = word_tokenize(x)\n",
    "StopWords=[w for w in word_tokens if not w in stop_words]"
   ]
  },
  {
   "cell_type": "code",
   "execution_count": 74,
   "metadata": {
    "collapsed": true
   },
   "outputs": [],
   "source": [
    "from wordcloud import WordCloud"
   ]
  },
  {
   "cell_type": "code",
   "execution_count": 200,
   "metadata": {
    "collapsed": true
   },
   "outputs": [],
   "source": [
    "from nytimesarticle import articleAPI\n",
    "api = articleAPI('YourAPI')"
   ]
  },
  {
   "cell_type": "code",
   "execution_count": 326,
   "metadata": {
    "collapsed": true
   },
   "outputs": [],
   "source": [
    "article=api.search(q='hashtag',begindate=\"20180328\")"
   ]
  },
  {
   "cell_type": "code",
   "execution_count": null,
   "metadata": {},
   "outputs": [],
   "source": [
    "with open('articles.txt','a',encoding='utf-8') as art:\n",
    "        query = \"Hashtag\"\n",
    "        url = \"http://api.nytimes.com/svc/search/v2/articlesearch.json?q=hashtag&page=1&sort=newest&api-key=YourAPI\"\n",
    "        resp = requests.get(url)\n",
    "        data = json.loads(resp.text)\n",
    "        #pprint(data[\"response\"][\"docs\"][0])\n",
    "        for key in data[\"response\"][\"docs\"]:\n",
    "            print(key['web_url'])"
   ]
  },
  {
   "cell_type": "code",
   "execution_count": 28,
   "metadata": {
    "collapsed": true,
    "scrolled": false
   },
   "outputs": [],
   "source": [
    "def text_from_html(body):\n",
    "    #soup = BeautifulSoup(html, 'html.parser')\n",
    "    texts = soup.find_all('p',class_=\"story-body-text story-content\")\n",
    "    #visible_texts = filter(tag_visible, texts)  \n",
    "    #return u\" \".join(t.strip() for t in visible_texts)\n",
    "    return texts\n",
    "\n",
    "with open('articles.txt','a',encoding='utf-8') as art:\n",
    "        query = \"Trump\"\n",
    "        url = \"http://api.nytimes.com/svc/search/v2/articlesearch.json?q=trump&page=1&sort=newest&api-key=4218d87e028a4ba4903d08b7ae1f9c51\"\n",
    "        resp = requests.get(url)\n",
    "        data = json.loads(resp.text)\n",
    "        #pprint(data[\"response\"][\"docs\"][0])\n",
    "        for key in data[\"response\"][\"docs\"]:\n",
    "            url=key['web_url']\n",
    "            html = urlopen(url).read()    \n",
    "            soup = BeautifulSoup(html,'html.parser')\n",
    "            try:\n",
    "                art.write(text_from_html(html)[0].text)\n",
    "                art.write(\"\\n\")\n",
    "            except:\n",
    "                    pass"
   ]
  }
 ],
 "metadata": {
  "kernelspec": {
   "display_name": "Python 3",
   "language": "python",
   "name": "python3"
  },
  "language_info": {
   "codemirror_mode": {
    "name": "ipython",
    "version": 3
   },
   "file_extension": ".py",
   "mimetype": "text/x-python",
   "name": "python",
   "nbconvert_exporter": "python",
   "pygments_lexer": "ipython3",
   "version": "3.6.3"
  }
 },
 "nbformat": 4,
 "nbformat_minor": 2
}
